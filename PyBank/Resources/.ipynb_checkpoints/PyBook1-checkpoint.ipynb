{
 "cells": [
  {
   "cell_type": "code",
   "execution_count": 42,
   "id": "d78aef67-da33-41c0-aa3d-c97dc6d103b5",
   "metadata": {},
   "outputs": [],
   "source": [
    "import pandas as pd\n",
    "from pathlib import Path\n",
    "from pandas import DataFrame, Series"
   ]
  },
  {
   "cell_type": "code",
   "execution_count": 43,
   "id": "379227ac-b285-4de6-a196-f8e5abad17fc",
   "metadata": {},
   "outputs": [
    {
     "name": "stdout",
     "output_type": "stream",
     "text": [
      "     Date  Profit/Losses\n",
      "0  Jan-10        1088983\n",
      "1  Feb-10        -354534\n",
      "2  Mar-10         276622\n",
      "3  Apr-10        -728133\n",
      "4  May-10         852993\n"
     ]
    }
   ],
   "source": [
    "# Specify the full file path using raw string notation\n",
    "file_path = r\"C:/Users/chris/OneDrive/Desktop/Columbia Class/Module3_challenge/PyBank/Resources/budget_data.csv\"\n",
    "\n",
    "# Read the CSV file into a DataFrame\n",
    "budget_df = pd.read_csv(file_path)\n",
    "\n",
    "# Display the first few rows to verify successful reading\n",
    "print(budget_df.head())"
   ]
  },
  {
   "cell_type": "code",
   "execution_count": 44,
   "id": "94b9088b-50b7-4285-a6f9-5fa5a977c011",
   "metadata": {},
   "outputs": [],
   "source": [
    "# Load in file\n",
    "# Store filepath in a variable\n",
    "budget_data = Path(\"C:/Users/chris/OneDrive/Desktop/Columbia Class/Module3_challenge/PyBank/Resources/budget_data.csv\")"
   ]
  },
  {
   "cell_type": "code",
   "execution_count": 45,
   "id": "fac03320-3d0f-43bd-a208-14eb3293b30c",
   "metadata": {},
   "outputs": [
    {
     "name": "stdout",
     "output_type": "stream",
     "text": [
      "Total number of months: 86\n"
     ]
    }
   ],
   "source": [
    "#Calculate the total number of months in the dataset\n",
    "# Get the total number of months\n",
    "total_months = budget_df.shape[0]  # Access the number of rows\n",
    "\n",
    "print(\"Total number of months:\", total_months)"
   ]
  },
  {
   "cell_type": "code",
   "execution_count": 46,
   "id": "7c36bc56-f1c5-4d46-b2e2-ac8c3c4a684d",
   "metadata": {},
   "outputs": [
    {
     "name": "stdout",
     "output_type": "stream",
     "text": [
      "Net total Profit/Losses: 22564198\n"
     ]
    }
   ],
   "source": [
    "#Calculate the net total amount of \"Profit/Losses\" over the entire period\n",
    "\n",
    "profit_losses_column = budget_df[\"Profit/Losses\"]\n",
    "net_total = profit_losses_column.sum()\n",
    "\n",
    "# Print the result\n",
    "print(\"Net total Profit/Losses:\", net_total)"
   ]
  },
  {
   "cell_type": "code",
   "execution_count": 49,
   "id": "95715770-b869-48d3-8d77-11fa9237e013",
   "metadata": {},
   "outputs": [
    {
     "name": "stdout",
     "output_type": "stream",
     "text": [
      "Average change Profit/Losses: -8311.105882352942\n"
     ]
    }
   ],
   "source": [
    "#Calculate the changes in \"Profit/Losses\" over the entire period, and then average those changes\n",
    "changes = budget_df[\"Profit/Losses\"].diff()\n",
    "\n",
    "# Exclude the first change (NaN due to difference with the initial value)\n",
    "changes = changes.iloc[1:]\n",
    "\n",
    "#Calculate average change\n",
    "average_change = changes.mean()\n",
    "\n",
    "# Print the result\n",
    "print(\"Average change Profit/Losses:\", average_change)"
   ]
  },
  {
   "cell_type": "code",
   "execution_count": 57,
   "id": "518c5d5c-4684-4cd8-9452-e1ea4bad39df",
   "metadata": {},
   "outputs": [
    {
     "name": "stdout",
     "output_type": "stream",
     "text": [
      "Date of greatest increase: Date              Mar-13\n",
      "Profit/Losses    1141840\n",
      "Name: 1970-01-01 00:00:00.000000038, dtype: object\n",
      "Amount of greatest increase: 1141840\n"
     ]
    }
   ],
   "source": [
    "#Calculate the greatest increase in profits (date and amount) over the entire period\n",
    "profit_gains_column = budget_df[\"Profit/Losses\"]\n",
    "\n",
    "# Convert the column to datetime format\n",
    "#if not pd.api.types.is_datetime64_dtype(budget_df.index):\n",
    "   # budget_df.index = pd.to_datetime(budget_df.index)\n",
    "#budget_df['Profit/Losses'] = pd.to_numeric(budget_df['Profit/Losses'])\n",
    "\n",
    "# Find the index of the maximum increase\n",
    "max_increase_index = profit_gains_column.idxmax()\n",
    "\n",
    "# Extract the corresponding date and amount from the DataFrame\n",
    "max_increase_date = budget_df.loc[max_increase_index]\n",
    "max_increase_amount = budget_df.loc[max_increase_index, \"Profit/Losses\"].item()\n",
    "\n",
    "# Display the results\n",
    "print(\"Date of greatest increase:\", max_increase_date)\n",
    "print(\"Amount of greatest increase:\", max_increase_amount)"
   ]
  },
  {
   "cell_type": "code",
   "execution_count": 54,
   "id": "912ff8c0-5ff7-4dd1-9d4c-9c7db17cadd7",
   "metadata": {},
   "outputs": [
    {
     "name": "stdout",
     "output_type": "stream",
     "text": [
      "Date of greatest decrease: Date               Dec-10\n",
      "Profit/Losses    -1194133\n",
      "Name: 1970-01-01 00:00:00.000000011, dtype: object\n",
      "Amount of greatest decrease: -1194133\n"
     ]
    }
   ],
   "source": [
    "#Calculate the greatest decrease in profits (date and amount) over the entire period\n",
    "profit_losses_column = budget_df[\"Profit/Losses\"]\n",
    "\n",
    "# Convert the column to datetime format\n",
    "#budget_df['Date'] = pd.to_datetime(budget_df['Date'])\n",
    "#budget_df['Profit/Losses'] = pd.to_numeric(budget_df['Profit/Losses'])\n",
    "#if not pd.api.types.is_datetime64_dtype(budget_df.index): budget_df.index = pd.to_datetime(budget_df.index)\n",
    "#budget_df['Profit/Losses'] = pd.to_numeric(budget_df['Profit/Losses'])\n",
    "\n",
    "# Find the index of the maximum decrease\n",
    "max_decrease_index = profit_losses_column.idxmin()\n",
    "\n",
    "# Extract the corresponding date and amount from the DataFrame\n",
    "max_decrease_date = budget_df.loc[max_decrease_index]\n",
    "max_decrease_amount = budget_df.loc[max_decrease_index, \"Profit/Losses\"].item()\n",
    "\n",
    "# Display the results\n",
    "print(\"Date of greatest decrease:\", max_decrease_date)\n",
    "print(\"Amount of greatest decrease:\", max_decrease_amount)"
   ]
  },
  {
   "cell_type": "code",
   "execution_count": 59,
   "id": "e64035b3-8066-4c8d-a350-4aaef7cf5708",
   "metadata": {},
   "outputs": [
    {
     "name": "stdout",
     "output_type": "stream",
     "text": [
      "Financial Analysis:\n",
      "Total number of months: 86\n",
      "Net total Profit/Losses: 22564198\n",
      "Average change Profit/Losses: -8311.105882352942\n",
      "- Greatest Increase in Profits: Date              Mar-13\n",
      "Profit/Losses    1141840\n",
      "Name: 1970-01-01 00:00:00.000000038, dtype: object 1141840\n",
      "- Greatest Decrease in Profits: Date               Dec-10\n",
      "Profit/Losses    -1194133\n",
      "Name: 1970-01-01 00:00:00.000000011, dtype: object -1194133\n"
     ]
    }
   ],
   "source": [
    "#Print results to terminal\n",
    "print(\"Financial Analysis:\")\n",
    "print(\"Total number of months:\", total_months)\n",
    "print(\"Net total Profit/Losses:\", net_total)\n",
    "print(\"Average change Profit/Losses:\", average_change)\n",
    "print(\"- Greatest Increase in Profits:\", max_increase_date, max_increase_amount)\n",
    "print(\"- Greatest Decrease in Profits:\", max_decrease_date, max_decrease_amount)\n"
   ]
  },
  {
   "cell_type": "code",
   "execution_count": 60,
   "id": "74aae7e5-37ef-4721-b62b-fe283036be57",
   "metadata": {},
   "outputs": [],
   "source": [
    "#Save txt file to path\n",
    "with open(\"C:/Users/chris/OneDrive/Desktop/Columbia Class/Module3_challenge/PyBank/Resources/financial_analysis.txt\", \"w\") as text_file:\n",
    "    text_file.write(\"Financial Analysis:\\n\")\n",
    "    text_file.write(\"- Total number of months: \" + str(total_months) + \"\\n\")\n",
    "    text_file.write(\"- Net total Profit/Losses: \" + str(net_total) + \"\\n\")\n",
    "    text_file.write(\"- Greatest Increase in Profits: \" + str(max_increase_date) + \" \" + str(max_increase_amount) + \"\\n\")\n",
    "    text_file.write(\"- Greatest Decrease in Profits: \" + str(max_decrease_date) + \" \" + str(max_decrease_amount) + \"\\n\")\n",
    "    \n"
   ]
  },
  {
   "cell_type": "code",
   "execution_count": 17,
   "id": "c53ef526-b753-48bf-ae59-0bb8a06063f5",
   "metadata": {},
   "outputs": [
    {
     "name": "stdout",
     "output_type": "stream",
     "text": [
      "Financial Analysis\n",
      "--------------------------------\n",
      "Total Months: 86\n",
      "Total Profit/Losses: $22564198\n",
      "Average Change: $262374.40\n",
      "Greatest Increase in Profits: 38 ($1141840)\n",
      "Greatest Decrease in Profits: 11 ($1141840)\n",
      "Analysis exported to financial_analysis.txt\n"
     ]
    }
   ],
   "source": [
    "#Print the analysis and export a text file with the results\n",
    "# 1. Print the analysis to the console\n",
    "print(\"Financial Analysis\")\n",
    "print(\"--------------------------------\")\n",
    "print(f\"Total Months: {total_months}\")\n",
    "print(f\"Total Profit/Losses: ${net_total}\")\n",
    "print(f\"Average Change: ${average_change:.2f}\")  # Format average change\n",
    "print(f\"Greatest Increase in Profits: {max_increase_date} (${max_increase_amount})\")\n",
    "print(f\"Greatest Decrease in Profits: {max_decrease_date} (${max_increase_amount})\")\n",
    "\n",
    "# 2. Export the analysis to a text file\n",
    "with open(\"C:/Users/chris/OneDrive/Desktop/Columbia Class/Module3_challenge/PyBank/Resources/financial_analysis.txt\", \"w\") as text_file:\n",
    "    text_file.write(\"Financial Analysis\\n\")\n",
    "    text_file.write(\"--------------------------------\\n\")\n",
    "    text_file.write(f\"Total Months: {total_months}\\n\")\n",
    "    text_file.write(f\"Total Profit/Losses: ${net_total}\\n\")\n",
    "    text_file.write(f\"Average Change: ${average_change:.2f}\\n\")\n",
    "    text_file.write(f\"Greatest Increase in Profits: {max_increase_date} (${max_increase_amount})\\n\")\n",
    "    text_file.write(f\"Greatest Decrease in Profits: {max_decrease_date} (${max_increase_amount})\\n\")\n",
    "\n",
    "print(\"Analysis exported to financial_analysis.txt\")"
   ]
  },
  {
   "cell_type": "code",
   "execution_count": null,
   "id": "84bcd6f3-611a-41c4-a416-eef0bf597163",
   "metadata": {},
   "outputs": [],
   "source": []
  }
 ],
 "metadata": {
  "kernelspec": {
   "display_name": "Python 3 (ipykernel)",
   "language": "python",
   "name": "python3"
  },
  "language_info": {
   "codemirror_mode": {
    "name": "ipython",
    "version": 3
   },
   "file_extension": ".py",
   "mimetype": "text/x-python",
   "name": "python",
   "nbconvert_exporter": "python",
   "pygments_lexer": "ipython3",
   "version": "3.11.5"
  }
 },
 "nbformat": 4,
 "nbformat_minor": 5
}
