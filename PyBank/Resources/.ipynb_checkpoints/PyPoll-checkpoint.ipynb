{
 "cells": [
  {
   "cell_type": "code",
   "execution_count": 1,
   "id": "4b102904-868b-4453-8d1c-03bf2043ed0a",
   "metadata": {},
   "outputs": [],
   "source": [
    "import pandas as pd\n",
    "from pathlib import Path\n",
    "from pandas import DataFrame, Series"
   ]
  },
  {
   "cell_type": "code",
   "execution_count": 2,
   "id": "b0b5a3fc-d1f4-4357-b9a8-2e55d679d102",
   "metadata": {},
   "outputs": [
    {
     "name": "stdout",
     "output_type": "stream",
     "text": [
      "   Ballot ID     County                Candidate\n",
      "0    1323913  Jefferson  Charles Casper Stockham\n",
      "1    1005842  Jefferson  Charles Casper Stockham\n",
      "2    1880345  Jefferson  Charles Casper Stockham\n",
      "3    1600337  Jefferson  Charles Casper Stockham\n",
      "4    1835994  Jefferson  Charles Casper Stockham\n"
     ]
    }
   ],
   "source": [
    "# Specify the full file path using raw string notation\n",
    "file_path = r\"C:/Users/chris/OneDrive/Desktop/Columbia Class/Module3_challenge/PyPoll/Resources/election_data.csv\"\n",
    "\n",
    "# Read the CSV file into a DataFrame\n",
    "election_data_df = pd.read_csv(file_path)\n",
    "\n",
    "# Display the first few rows to verify successful reading\n",
    "print(election_data_df.head())"
   ]
  },
  {
   "cell_type": "code",
   "execution_count": 3,
   "id": "94a2ba1b-446f-4710-a2b4-2a76dc176d88",
   "metadata": {},
   "outputs": [],
   "source": [
    "# Store filepath in a variable\n",
    "election_data = Path(\"C:/Users/chris/OneDrive/Desktop/Columbia Class/Module3_challenge/PyPoll/Resources/election_data.csv\")"
   ]
  },
  {
   "cell_type": "code",
   "execution_count": 4,
   "id": "99228a15-a9b3-4dcc-837b-d05d01e41266",
   "metadata": {},
   "outputs": [
    {
     "name": "stdout",
     "output_type": "stream",
     "text": [
      "Total number of votes cast: 369711\n"
     ]
    }
   ],
   "source": [
    "# Calculate the total number of votes cast\n",
    "total_votes = election_data_df.shape[0]  # Access the number of rows\n",
    "\n",
    "print(\"Total number of votes cast:\", total_votes)"
   ]
  },
  {
   "cell_type": "code",
   "execution_count": 7,
   "id": "6ccfc128-febf-4b08-a17f-3d96a7c72806",
   "metadata": {},
   "outputs": [
    {
     "data": {
      "text/html": [
       "<div>\n",
       "<style scoped>\n",
       "    .dataframe tbody tr th:only-of-type {\n",
       "        vertical-align: middle;\n",
       "    }\n",
       "\n",
       "    .dataframe tbody tr th {\n",
       "        vertical-align: top;\n",
       "    }\n",
       "\n",
       "    .dataframe thead th {\n",
       "        text-align: right;\n",
       "    }\n",
       "</style>\n",
       "<table border=\"1\" class=\"dataframe\">\n",
       "  <thead>\n",
       "    <tr style=\"text-align: right;\">\n",
       "      <th></th>\n",
       "      <th>Ballot ID</th>\n",
       "      <th>County</th>\n",
       "      <th>Candidate</th>\n",
       "    </tr>\n",
       "  </thead>\n",
       "  <tbody>\n",
       "    <tr>\n",
       "      <th>0</th>\n",
       "      <td>1323913</td>\n",
       "      <td>Jefferson</td>\n",
       "      <td>Charles Casper Stockham</td>\n",
       "    </tr>\n",
       "    <tr>\n",
       "      <th>1</th>\n",
       "      <td>1005842</td>\n",
       "      <td>Jefferson</td>\n",
       "      <td>Charles Casper Stockham</td>\n",
       "    </tr>\n",
       "    <tr>\n",
       "      <th>2</th>\n",
       "      <td>1880345</td>\n",
       "      <td>Jefferson</td>\n",
       "      <td>Charles Casper Stockham</td>\n",
       "    </tr>\n",
       "    <tr>\n",
       "      <th>3</th>\n",
       "      <td>1600337</td>\n",
       "      <td>Jefferson</td>\n",
       "      <td>Charles Casper Stockham</td>\n",
       "    </tr>\n",
       "    <tr>\n",
       "      <th>4</th>\n",
       "      <td>1835994</td>\n",
       "      <td>Jefferson</td>\n",
       "      <td>Charles Casper Stockham</td>\n",
       "    </tr>\n",
       "  </tbody>\n",
       "</table>\n",
       "</div>"
      ],
      "text/plain": [
       "   Ballot ID     County                Candidate\n",
       "0    1323913  Jefferson  Charles Casper Stockham\n",
       "1    1005842  Jefferson  Charles Casper Stockham\n",
       "2    1880345  Jefferson  Charles Casper Stockham\n",
       "3    1600337  Jefferson  Charles Casper Stockham\n",
       "4    1835994  Jefferson  Charles Casper Stockham"
      ]
     },
     "execution_count": 7,
     "metadata": {},
     "output_type": "execute_result"
    }
   ],
   "source": [
    "# Provide a complete list of candidates who received votes\n",
    "# Create a candidate dataset\n",
    "candidate_data_df = election_data_df[[\"Ballot ID\", \"County\", \"Candidate\"]]\n",
    "candidate_data_df.head()"
   ]
  },
  {
   "cell_type": "code",
   "execution_count": 19,
   "id": "55a4093a-9266-4ab9-b508-2d6c4d2d372f",
   "metadata": {},
   "outputs": [
    {
     "data": {
      "text/plain": [
       "Candidate\n",
       "Charles Casper Stockham     85213\n",
       "Diana DeGette              272892\n",
       "Raymon Anthony Doane        11606\n",
       "Name: Ballot ID, dtype: int64"
      ]
     },
     "execution_count": 19,
     "metadata": {},
     "output_type": "execute_result"
    }
   ],
   "source": [
    "# Count unique candidate names\n",
    "\n",
    "candidate_total_group = candidate_data_df.groupby(\"Candidate\")[\"Ballot ID\"].nunique()\n",
    "candidate_total_group"
   ]
  },
  {
   "cell_type": "code",
   "execution_count": 28,
   "id": "d91e86ff-4ddf-42bf-a2e9-6606eb693c5c",
   "metadata": {},
   "outputs": [
    {
     "name": "stdout",
     "output_type": "stream",
     "text": [
      "Candidate\n",
      "Charles Casper Stockham                                                85213\n",
      "Diana DeGette                                                         272892\n",
      "Raymon Anthony Doane                                                   11606\n",
      "percentage                 Candidate\n",
      "Charles Casper Stockham             ...\n",
      "Name: Ballot ID, dtype: object Candidate\n",
      "Charles Casper Stockham                                            23.048543\n",
      "Diana DeGette                                                      73.812248\n",
      "Raymon Anthony Doane                                                3.139209\n",
      "percentage                 Candidate\n",
      "Charles Casper Stockham    0.006234\n",
      "...\n",
      "Name: Ballot ID, dtype: object\n"
     ]
    }
   ],
   "source": [
    "# Calculate the percentage of votes each candidate won\n",
    "\n",
    " # Calculate the vote count for each candidate\n",
    "#candidate_counts = candidate_data_df.groupby(\"Candidate\")[candidate_total_group].sum()\n",
    "\n",
    "  # Calculate the percentage of votes for each candidate\n",
    "percentages = (candidate_total_group / total_votes) * 100\n",
    "\n",
    "  # Add the percentage column to the DataFrame\n",
    "candidate_total_group[\"percentage\"] = percentages\n",
    "print(candidate_total_group, percentages)\n"
   ]
  },
  {
   "cell_type": "code",
   "execution_count": null,
   "id": "1613ecd2-259a-4447-b267-37f4116938e8",
   "metadata": {},
   "outputs": [],
   "source": [
    "# Winner: Diana DeGette with 272892 votes!\n"
   ]
  },
  {
   "cell_type": "code",
   "execution_count": 29,
   "id": "85d88134-298d-4992-a6ac-5439ae4da3f0",
   "metadata": {},
   "outputs": [
    {
     "name": "stdout",
     "output_type": "stream",
     "text": [
      "Voter Analysis:\n",
      "Total number of votes cast: 369711\n",
      "Total number of votes per candidate: Candidate\n",
      "Charles Casper Stockham                                                85213\n",
      "Diana DeGette                                                         272892\n",
      "Raymon Anthony Doane                                                   11606\n",
      "percentage                 Candidate\n",
      "Charles Casper Stockham             ...\n",
      "Name: Ballot ID, dtype: object\n",
      "Percentage of votes per candidate: Candidate\n",
      "Charles Casper Stockham                                            23.048543\n",
      "Diana DeGette                                                      73.812248\n",
      "Raymon Anthony Doane                                                3.139209\n",
      "percentage                 Candidate\n",
      "Charles Casper Stockham    0.006234\n",
      "...\n",
      "Name: Ballot ID, dtype: object\n",
      "Winner: Diana DeGette with 272892 votes!\n"
     ]
    }
   ],
   "source": [
    "#Print results to terminal\n",
    "print(\"Voter Analysis:\")\n",
    "print(\"Total number of votes cast:\", total_votes)\n",
    "print(\"Total number of votes per candidate:\", candidate_total_group)\n",
    "print(\"Percentage of votes per candidate:\", percentages)\n",
    "print(\"Winner: Diana DeGette with 272892 votes!\")"
   ]
  },
  {
   "cell_type": "code",
   "execution_count": 32,
   "id": "87b224f9-fc5c-4482-a6e9-2c6e88c15fac",
   "metadata": {},
   "outputs": [],
   "source": [
    "#Save txt file to path\n",
    "with open(\"C:/Users/chris/OneDrive/Desktop/Columbia Class/Module3_challenge/PyPoll/Resources/election_data.csv\", \"w\") as text_file:\n",
    "    text_file.write(\"Election Data:\\n\")\n",
    "    text_file.write(\"- Total number of votes cast: \" + str(total_votes) + \"\\n\")\n",
    "    text_file.write(\"- Total number of votes per candidate: \" + str(candidate_total_group) + \"\\n\")\n",
    "    text_file.write(\"- Percentage of votes per candidate: \" + str(candidate_total_group) + \" \" + str(percentages) + \"\\n\")\n",
    "    text_file.write(\"- Winner: Diana DeGette with 272892 votes!: \" \"\\n\")"
   ]
  },
  {
   "cell_type": "code",
   "execution_count": null,
   "id": "94b8f66d-4018-41b5-afed-8a4e0215b506",
   "metadata": {},
   "outputs": [],
   "source": []
  }
 ],
 "metadata": {
  "kernelspec": {
   "display_name": "Python 3 (ipykernel)",
   "language": "python",
   "name": "python3"
  },
  "language_info": {
   "codemirror_mode": {
    "name": "ipython",
    "version": 3
   },
   "file_extension": ".py",
   "mimetype": "text/x-python",
   "name": "python",
   "nbconvert_exporter": "python",
   "pygments_lexer": "ipython3",
   "version": "3.11.5"
  }
 },
 "nbformat": 4,
 "nbformat_minor": 5
}
